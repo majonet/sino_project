{
 "cells": [
  {
   "cell_type": "markdown",
   "id": "2e927e89",
   "metadata": {},
   "source": [
    "کلاسی به نام Person طراحی کن که دارای ویژگی‌های زیر باشد:\n",
    "\n",
    "نام (name)\n",
    "\n",
    "سن (age)\n",
    "\n",
    "تابعی به نام is_adult که مشخص کند فرد بزرگ‌سال است یا نه (سن بالای ۱۸)\n",
    "\n",
    "سپس کلاسی به نام Student از Person بساز که ویژگی‌های اضافی زیر را داشته باشد:\n",
    "\n",
    "شماره دانشجویی (student_id)\n",
    "\n",
    "لیستی از نمرات (grades)\n",
    "\n",
    "تابعی به نام average که میانگین نمرات را حساب کند.\n",
    "\n",
    "در پایان:\n",
    "\n",
    "یک یا دو نمونه از Student بساز.\n",
    "\n",
    "مشخصات آن‌ها را چاپ کن.\n",
    "\n",
    "مشخص کن آیا بزرگ‌سال هستند یا نه.\n",
    "\n",
    "میانگین نمره‌شان را چاپ کن."
   ]
  },
  {
   "cell_type": "code",
   "execution_count": 2,
   "id": "868dc7eb",
   "metadata": {},
   "outputs": [
    {
     "name": "stdout",
     "output_type": "stream",
     "text": [
      "2.0\n"
     ]
    }
   ],
   "source": [
    "from numpy import average\n",
    "\n",
    "\n",
    "l=[1,2,3]\n",
    "print(average(l))"
   ]
  },
  {
   "cell_type": "code",
   "execution_count": 13,
   "id": "5123d19c",
   "metadata": {},
   "outputs": [],
   "source": [
    "from numpy import average\n",
    "class person:\n",
    "    def __init__(self,name,age):\n",
    "        self.name=name\n",
    "        self.age=age\n",
    "    def is_adult(self):\n",
    "        if self.age > 18:\n",
    "             return True\n",
    "        else:\n",
    "            return False\n",
    "class student(person):\n",
    "     def __init__(self, name, age,student_id,grades):\n",
    "         super().__init__(name, age)\n",
    "         self.student_id=student_id\n",
    "         self.grades=grades\n",
    "     def average_s (self):\n",
    "         return average(self.grades)\n",
    "\n"
   ]
  },
  {
   "cell_type": "code",
   "execution_count": null,
   "id": "08cf7451",
   "metadata": {},
   "outputs": [],
   "source": [
    "class BOOK:\n",
    "    def __init__(self,title, author, isbn, copies):\n",
    "        self.title= title\n",
    "        self.author=author\n",
    "        self.isbn =isbn\n",
    "        self.copies=copies\n",
    "    def is_available(self):\n",
    "       return (self.isbn==1) \n",
    "class MEMBER(BOOK):\n",
    "    def __init__(self,name, member_id):\n",
    "          self.name=name\n",
    "          self.member_id=member_id\n",
    "          self.borrowed_books=BOOK()\n",
    "    def  borrow(self):\n",
    "        if self.borrowed_books.is_available() ==0 :\n",
    "                return \"book in not avalible\"\n",
    "        else:\n",
    "            self.borrowed_books.isbn = 0\n",
    "            return \n",
    "    def return_book (self):\n",
    "       if self.borrowed_books.is_available() == 1:\n",
    "           return \"you are fake man\"\n",
    "       else:\n",
    "            self.borrowed_books.isbn = 0\n",
    "            return \"the book return success\"\n",
    "    # @property\n",
    "    # def borrow_count(self):\n",
    "    #     if self.borrow() == \"book in not avalible\" :"
   ]
  },
  {
   "cell_type": "code",
   "execution_count": null,
   "id": "da4f515c",
   "metadata": {},
   "outputs": [],
   "source": [
    "book1=BOOK(\"a\",\"as\",1,True)\n",
    "book2=BOOK(\"b\",\"gh\",0,False)\n",
    "book3=BOOK(\"c\",\"rt\",1,True)\n",
    "book4=BOOK(\"g\",\"jk\",0,True)"
   ]
  }
 ],
 "metadata": {
  "kernelspec": {
   "display_name": "Python 3",
   "language": "python",
   "name": "python3"
  },
  "language_info": {
   "codemirror_mode": {
    "name": "ipython",
    "version": 3
   },
   "file_extension": ".py",
   "mimetype": "text/x-python",
   "name": "python",
   "nbconvert_exporter": "python",
   "pygments_lexer": "ipython3",
   "version": "3.9.11"
  }
 },
 "nbformat": 4,
 "nbformat_minor": 5
}
